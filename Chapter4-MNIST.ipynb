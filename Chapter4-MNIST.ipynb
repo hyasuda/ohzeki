{
 "cells": [
  {
   "cell_type": "code",
   "execution_count": 1,
   "metadata": {},
   "outputs": [],
   "source": [
    "#モジュールの読み込み\n",
    "import numpy as np\n",
    "import matplotlib.pyplot as plt\n",
    "import sklearn.datasets as ds"
   ]
  },
  {
   "cell_type": "code",
   "execution_count": 2,
   "metadata": {},
   "outputs": [],
   "source": [
    "#MNISTデータの読み込み\n",
    "# digits は10個の数字を扱うことができる.\n",
    "MNIST = ds.load_digits()\n",
    "xdata = MNIST.data.astype(np.float32)\n",
    "tdata = MNIST.target.astype(np.int32)"
   ]
  },
  {
   "cell_type": "code",
   "execution_count": 3,
   "metadata": {},
   "outputs": [
    {
     "name": "stdout",
     "output_type": "stream",
     "text": [
      "1797 64\n"
     ]
    }
   ],
   "source": [
    "# 数字の配列の形のチェックおよび表示\n",
    "D, N = xdata.shape\n",
    "print(D,N)"
   ]
  },
  {
   "cell_type": "code",
   "execution_count": 4,
   "metadata": {},
   "outputs": [],
   "source": [
    "# D=1797個のデータがあり, 一つ一つがN=64個の数字からなることがわかった.\n",
    "# digitsを使っているので, 10個の数字のデータが64この数字からなることを意味している."
   ]
  },
  {
   "cell_type": "code",
   "execution_count": 5,
   "metadata": {},
   "outputs": [
    {
     "data": {
      "image/png": "[encoded data removed]",
      "text/plain": [
       "<Figure size 432x288 with 1 Axes>"
      ]
     },
     "metadata": {
      "needs_background": "light"
     },
     "output_type": "display_data"
    }
   ],
   "source": [
    "# 画像データの表示\n",
    "# .reshape(8,8)によって, 縦横8x8のデータに整形.\n",
    "# また, plt.imshowで数値のデータを画像として表示する準備をしている.\n",
    "plt.imshow(xdata[0,:].reshape(8,8))\n",
    "plt.show()"
   ]
  },
  {
   "cell_type": "code",
   "execution_count": 6,
   "metadata": {},
   "outputs": [
    {
     "name": "stdout",
     "output_type": "stream",
     "text": [
      "[0 1 2 ... 8 9 8]\n"
     ]
    }
   ],
   "source": [
    "# ラベルの表示\n",
    "print(tdata)"
   ]
  },
  {
   "cell_type": "code",
   "execution_count": 7,
   "metadata": {},
   "outputs": [],
   "source": [
    "# データ分割の自作関数\n",
    "def data_divide(Dtrain, D, xdaa, tdata):\n",
    "    index = np.random.permutation(range(D))\n",
    "    xtrain = xdata[index[0:Dtrain],:]\n",
    "    ttrain = tdata[index[0:Dtrain]]\n",
    "    xtest = xdata[index[Dtrain:D], :]\n",
    "    ttest = tdata[index[Dtrain:D]]\n",
    "    return xtrain, xtest, ttrain, ttest"
   ]
  },
  {
   "cell_type": "code",
   "execution_count": 8,
   "metadata": {},
   "outputs": [],
   "source": [
    "# データ分割の自作関数の利用\n",
    "Dtrain = D//2\n",
    "xtrain, xtest, ttrain, ttest = data_divide(Dtrain, D, xdata, tdata)"
   ]
  },
  {
   "cell_type": "code",
   "execution_count": 9,
   "metadata": {},
   "outputs": [
    {
     "name": "stderr",
     "output_type": "stream",
     "text": [
      "/anaconda3/envs/princess/lib/python3.7/site-packages/chainer/_environment_check.py:41: UserWarning: Accelerate has been detected as a NumPy backend library.\n",
      "vecLib, which is a part of Accelerate, is known not to work correctly with Chainer.\n",
      "We recommend using other BLAS libraries such as OpenBLAS.\n",
      "For details of the issue, please see\n",
      "https://docs.chainer.org/en/stable/tips.html#mnist-example-does-not-converge-in-cpu-mode-on-mac-os-x.\n",
      "\n",
      "Please be aware that Mac OS X is not an officially supported OS.\n",
      "\n",
      "  ''')  # NOQA\n"
     ]
    }
   ],
   "source": [
    "# chainerの宣言\n",
    "import chainer.optimizers as Opt\n",
    "import chainer.functions as F\n",
    "import chainer.links as L\n",
    "from chainer import Variable, Chain, config"
   ]
  },
  {
   "cell_type": "code",
   "execution_count": 10,
   "metadata": {},
   "outputs": [],
   "source": [
    "# ２層ニューラルネットワークを呼び出す\n",
    "C = tdata.max() + 1\n",
    "NN = Chain( l1 = L.Linear(N, 20), l2 = L.Linear(20, C))"
   ]
  },
  {
   "cell_type": "code",
   "execution_count": 11,
   "metadata": {},
   "outputs": [],
   "source": [
    "# ２層ニューラルネットワークの関数化\n",
    "def model(x):\n",
    "    h = NN.l1(x)\n",
    "    h = F.relu(h)\n",
    "    y = NN.l2(h)\n",
    "    return y"
   ]
  },
  {
   "cell_type": "code",
   "execution_count": 12,
   "metadata": {},
   "outputs": [
    {
     "data": {
      "text/plain": [
       "<chainer.optimizers.momentum_sgd.MomentumSGD at 0x120218e10>"
      ]
     },
     "execution_count": 12,
     "metadata": {},
     "output_type": "execute_result"
    }
   ],
   "source": [
    "# 最適化手法の設定\n",
    "# 今回はモーメント勾配法を採用\n",
    "optNN = Opt.MomentumSGD()\n",
    "optNN.setup(NN)"
   ]
  },
  {
   "cell_type": "code",
   "execution_count": 13,
   "metadata": {},
   "outputs": [],
   "source": [
    "# 学習の記録を残す場所を用意\n",
    "train_loss = []\n",
    "train_acc = []\n",
    "test_loss = []\n",
    "test_acc = []"
   ]
  },
  {
   "cell_type": "code",
   "execution_count": 14,
   "metadata": {},
   "outputs": [],
   "source": [
    "# 結界の中での最適化の過程と学習成果の記録\n",
    "T = 200\n",
    "for time in range(T):\n",
    "    config.train = True\n",
    "    optNN.target.zerograds()\n",
    "    ytrain = model(xtrain)\n",
    "    loss_train = F.softmax_cross_entropy(ytrain, ttrain)\n",
    "    acc_train = F.accuracy(ytrain, ttrain)\n",
    "    loss_train.backward()\n",
    "    optNN.update()\n",
    "    \n",
    "    config.train = False\n",
    "    ytest = model(xtest)\n",
    "    loss_test = F.softmax_cross_entropy(ytrain, ttrain)\n",
    "    acc_test = F.accuracy(ytrain, ttrain)\n",
    "    train_loss.append(loss_train.data)\n",
    "    train_acc.append(acc_train.data)\n",
    "    test_loss.append(loss_test.data)\n",
    "    test_acc.append(acc_test.data)"
   ]
  },
  {
   "cell_type": "code",
   "execution_count": 15,
   "metadata": {},
   "outputs": [],
   "source": [
    "# 二つの結果を並べてプロットする自作関数\n",
    "def plot_result2(result1, result2, title, xlabel, ylabel, ymin = 0.0, ymax = 1.0):\n",
    "    Tall = len(result1)\n",
    "    plt.figure(figsize=(8,6))\n",
    "    plt.plot(range(Tall), result1)\n",
    "    plt.plot(range(Tall), result2)\n",
    "    plt.title(title)\n",
    "    plt.xlabel(xlabel)\n",
    "    plt.ylabel(ylabel)\n",
    "    plt.xlim([0, Tall])\n",
    "    plt.ylim([ymin, ymax])\n",
    "    plt.show()"
   ]
  },
  {
   "cell_type": "code",
   "execution_count": 16,
   "metadata": {},
   "outputs": [
    {
     "data": {
      "image/png": "[encoded data removed]",
      "text/plain": [
       "<Figure size 576x432 with 1 Axes>"
      ]
     },
     "metadata": {
      "needs_background": "light"
     },
     "output_type": "display_data"
    },
    {
     "data": {
      "image/png": "[encoded data removed]",
      "text/plain": [
       "<Figure size 576x432 with 1 Axes>"
      ]
     },
     "metadata": {
      "needs_background": "light"
     },
     "output_type": "display_data"
    }
   ],
   "source": [
    "# 学習の記録と成績の記録の表示\n",
    "plot_result2(train_loss, test_loss, \"loss function\", \"step\", \"loss function\", 0.0, 4.0)\n",
    "plot_result2(train_acc, test_acc, \"accuracy\", \"step\", \"accuracy\")"
   ]
  },
  {
   "cell_type": "code",
   "execution_count": 17,
   "metadata": {},
   "outputs": [],
   "source": [
    "# 大型データセットの読み込み準備\n",
    "import chainer.datasets as ds"
   ]
  },
  {
   "cell_type": "code",
   "execution_count": 18,
   "metadata": {},
   "outputs": [],
   "source": [
    "# MNIST データの読み込み\n",
    "train, test = ds.get_mnist()"
   ]
  },
  {
   "cell_type": "code",
   "execution_count": 19,
   "metadata": {},
   "outputs": [],
   "source": [
    "# 入力とラベルの取り出し\n",
    "import chainer.dataset.convert as con\n",
    "xtrain, ttrain = con.concat_examples(train)\n",
    "xtest, ttest = con.concat_examples(test)"
   ]
  },
  {
   "cell_type": "code",
   "execution_count": 20,
   "metadata": {},
   "outputs": [
    {
     "name": "stdout",
     "output_type": "stream",
     "text": [
      "60000 784\n"
     ]
    },
    {
     "data": {
      "image/png": "[encoded data removed]",
      "text/plain": [
       "<Figure size 432x288 with 1 Axes>"
      ]
     },
     "metadata": {
      "needs_background": "light"
     },
     "output_type": "display_data"
    }
   ],
   "source": [
    "# データの形とMNIST originalの１例を表示する\n",
    "Dtrain, N = xtrain.shape\n",
    "print(Dtrain,N)\n",
    "plt.imshow(xtrain[0,:].reshape(28,28))\n",
    "plt.show()"
   ]
  },
  {
   "cell_type": "code",
   "execution_count": 21,
   "metadata": {},
   "outputs": [],
   "source": [
    "# ２層のニューラルネットワークを呼び出して関数化\n",
    "# はじめにtdataが存在しないことから, ttrainの中から最大値をとって, C=10となるように仕様変更している.\n",
    "C = ttrain.max() + 1\n",
    "NN = Chain(l1 = L.Linear(N, 400), l2 = L.Linear(400, C), bnorm1 = L.BatchNormalization(400))\n",
    "# bnormでニューラルネットワークにバッチ規格化を導入している.\n",
    "# NNには線形変換や非線形変換以外にも様々な操作が存在する.\n",
    "# その一つがバッチ規格化であり, 様々なデータが次から次へと何度も変換が咥えられるので、途中の結果の整理整頓を行う役割を担う.\n",
    "# これにより, 学習の安定化ができる. 引数は途中の結果がいくつ用意されるかに応じて変更する.\n",
    "# 今回はN=784から400へと絞り, 最終的にC=10個の識別を行う. そのため、400という数字を設定した.\n",
    "def model(x):\n",
    "    h = NN.l1(x)\n",
    "    h = F.relu(h)\n",
    "    # バッチ規格化の導入.\n",
    "    h = NN.bnorm1(h)\n",
    "    y = NN.l2(h)\n",
    "    return y"
   ]
  },
  {
   "cell_type": "code",
   "execution_count": 22,
   "metadata": {},
   "outputs": [],
   "source": [
    "# 識別用の結界を張る自作関数\n",
    "def learning_classification(model, optNN, data, result, T=50):\n",
    "    for time in range(T):\n",
    "        config.train = True\n",
    "        optNN.target.zerograds()\n",
    "        ytrain = model(data[0])\n",
    "        loss_train = F.softmax_cross_entropy(ytrain, data[2])\n",
    "        acc_train = F.accuracy(ytrain, data[2])\n",
    "        loss_train.backward()\n",
    "        optNN.update()\n",
    "        # バッチ規格化をはじめ, いくつかのものはそのまま利用してしまうと, \n",
    "        # 訓練データを利用する際とテストデータを利用する際において違う結果を招くことがある.\n",
    "        config.train = False\n",
    "        ytest = model(data[1])\n",
    "        loss_test = F.softmax_cross_entropy(ytest, data[3])\n",
    "        acc_test = F.accuracy(ytest, data[3])\n",
    "        result[0].append(loss_train.data)\n",
    "        result[1].append(loss_test.data)\n",
    "        result[2].append(acc_train.data)\n",
    "        result[3].append(acc_test.data)"
   ]
  },
  {
   "cell_type": "code",
   "execution_count": 23,
   "metadata": {},
   "outputs": [],
   "source": [
    "# 最適化手法の設定\n",
    "optNN = Opt.MomentumSGD()\n",
    "optNN.setup(NN)\n",
    "\n",
    "# データと学習の記録を残す場所の用意\n",
    "train_loss = []\n",
    "train_acc = []\n",
    "test_loss = []\n",
    "test_acc = []\n",
    "data = [xtrain, xtest, ttrain, ttest]\n",
    "result = [train_loss, test_loss, train_acc, test_acc]"
   ]
  },
  {
   "cell_type": "code",
   "execution_count": 27,
   "metadata": {},
   "outputs": [],
   "source": [
    "# 学習回数を変える際には, 最後の引数に T = 100 などを加える.\n",
    "learning_classification(model, optNN, data, result, 10)"
   ]
  },
  {
   "cell_type": "code",
   "execution_count": 28,
   "metadata": {
    "scrolled": true
   },
   "outputs": [
    {
     "data": {
      "image/png": "[encoded data removed]",
      "text/plain": [
       "<Figure size 576x432 with 1 Axes>"
      ]
     },
     "metadata": {
      "needs_background": "light"
     },
     "output_type": "display_data"
    },
    {
     "data": {
      "image/png": "[encoded data removed]",
      "text/plain": [
       "<Figure size 576x432 with 1 Axes>"
      ]
     },
     "metadata": {
      "needs_background": "light"
     },
     "output_type": "display_data"
    }
   ],
   "source": [
    "# 自作関数による結果の表示\n",
    "plot_result2(result[0], result[1], \"loss function\", \"step\", \"loss function\", 0.0, 4.0)\n",
    "plot_result2(result[2], result[3], \"accuracy\", \"step\", \"accuracy\")"
   ]
  },
  {
   "cell_type": "code",
   "execution_count": 29,
   "metadata": {},
   "outputs": [
    {
     "ename": "RuntimeError",
     "evalue": "CUDA environment is not correctly set up\n(see https://github.com/chainer/chainer#installation).No module named 'cupy'",
     "output_type": "error",
     "traceback": [
      "\u001b[0;31m---------------------------------------------------------------------------\u001b[0m",
      "\u001b[0;31mRuntimeError\u001b[0m                              Traceback (most recent call last)",
      "\u001b[0;32m<ipython-input-29-874998e19731>\u001b[0m in \u001b[0;36m<module>\u001b[0;34m\u001b[0m\n\u001b[1;32m      2\u001b[0m \u001b[0;32mfrom\u001b[0m \u001b[0mchainer\u001b[0m \u001b[0;32mimport\u001b[0m \u001b[0mcuda\u001b[0m\u001b[0;34m\u001b[0m\u001b[0;34m\u001b[0m\u001b[0m\n\u001b[1;32m      3\u001b[0m \u001b[0mgpu_device\u001b[0m \u001b[0;34m=\u001b[0m \u001b[0;36m0\u001b[0m\u001b[0;34m\u001b[0m\u001b[0;34m\u001b[0m\u001b[0m\n\u001b[0;32m----> 4\u001b[0;31m \u001b[0mcuda\u001b[0m\u001b[0;34m.\u001b[0m\u001b[0mget_device\u001b[0m\u001b[0;34m(\u001b[0m\u001b[0mgpu_device\u001b[0m\u001b[0;34m)\u001b[0m\u001b[0;34m.\u001b[0m\u001b[0muse\u001b[0m\u001b[0;34m(\u001b[0m\u001b[0;34m)\u001b[0m\u001b[0;34m\u001b[0m\u001b[0;34m\u001b[0m\u001b[0m\n\u001b[0m\u001b[1;32m      5\u001b[0m \u001b[0;31m# cuda.get_device(gpu_device).use()\u001b[0m\u001b[0;34m\u001b[0m\u001b[0;34m\u001b[0m\u001b[0;34m\u001b[0m\u001b[0m\n\u001b[1;32m      6\u001b[0m \u001b[0;31m# NN.to_gpu()\u001b[0m\u001b[0;34m\u001b[0m\u001b[0;34m\u001b[0m\u001b[0;34m\u001b[0m\u001b[0m\n",
      "\u001b[0;32m/anaconda3/envs/princess/lib/python3.7/site-packages/chainer/backends/cuda.py\u001b[0m in \u001b[0;36mget_device\u001b[0;34m(*args)\u001b[0m\n\u001b[1;32m    341\u001b[0m     warnings.warn('get_device is deprecated. Please use get_device_from_id or'\n\u001b[1;32m    342\u001b[0m                   ' get_device_from_array instead.', DeprecationWarning)\n\u001b[0;32m--> 343\u001b[0;31m     \u001b[0;32mreturn\u001b[0m \u001b[0m_get_cuda_device\u001b[0m\u001b[0;34m(\u001b[0m\u001b[0;34m*\u001b[0m\u001b[0margs\u001b[0m\u001b[0;34m)\u001b[0m\u001b[0;34m\u001b[0m\u001b[0;34m\u001b[0m\u001b[0m\n\u001b[0m\u001b[1;32m    344\u001b[0m \u001b[0;34m\u001b[0m\u001b[0m\n\u001b[1;32m    345\u001b[0m \u001b[0;34m\u001b[0m\u001b[0m\n",
      "\u001b[0;32m/anaconda3/envs/princess/lib/python3.7/site-packages/chainer/backends/cuda.py\u001b[0m in \u001b[0;36m_get_cuda_device\u001b[0;34m(*args)\u001b[0m\n\u001b[1;32m    348\u001b[0m     \u001b[0;32mfor\u001b[0m \u001b[0marg\u001b[0m \u001b[0;32min\u001b[0m \u001b[0margs\u001b[0m\u001b[0;34m:\u001b[0m\u001b[0;34m\u001b[0m\u001b[0;34m\u001b[0m\u001b[0m\n\u001b[1;32m    349\u001b[0m         \u001b[0;32mif\u001b[0m \u001b[0mtype\u001b[0m\u001b[0;34m(\u001b[0m\u001b[0marg\u001b[0m\u001b[0;34m)\u001b[0m \u001b[0;32mis\u001b[0m \u001b[0;32mnot\u001b[0m \u001b[0mbool\u001b[0m \u001b[0;32mand\u001b[0m \u001b[0misinstance\u001b[0m\u001b[0;34m(\u001b[0m\u001b[0marg\u001b[0m\u001b[0;34m,\u001b[0m \u001b[0m_integer_types\u001b[0m\u001b[0;34m)\u001b[0m\u001b[0;34m:\u001b[0m\u001b[0;34m\u001b[0m\u001b[0;34m\u001b[0m\u001b[0m\n\u001b[0;32m--> 350\u001b[0;31m             \u001b[0mcheck_cuda_available\u001b[0m\u001b[0;34m(\u001b[0m\u001b[0;34m)\u001b[0m\u001b[0;34m\u001b[0m\u001b[0;34m\u001b[0m\u001b[0m\n\u001b[0m\u001b[1;32m    351\u001b[0m             \u001b[0;32mreturn\u001b[0m \u001b[0mDevice\u001b[0m\u001b[0;34m(\u001b[0m\u001b[0marg\u001b[0m\u001b[0;34m)\u001b[0m\u001b[0;34m\u001b[0m\u001b[0;34m\u001b[0m\u001b[0m\n\u001b[1;32m    352\u001b[0m         \u001b[0;32mif\u001b[0m \u001b[0misinstance\u001b[0m\u001b[0;34m(\u001b[0m\u001b[0marg\u001b[0m\u001b[0;34m,\u001b[0m \u001b[0mndarray\u001b[0m\u001b[0;34m)\u001b[0m\u001b[0;34m:\u001b[0m\u001b[0;34m\u001b[0m\u001b[0;34m\u001b[0m\u001b[0m\n",
      "\u001b[0;32m/anaconda3/envs/princess/lib/python3.7/site-packages/chainer/backends/cuda.py\u001b[0m in \u001b[0;36mcheck_cuda_available\u001b[0;34m()\u001b[0m\n\u001b[1;32m    136\u001b[0m                '(see https://github.com/chainer/chainer#installation).')\n\u001b[1;32m    137\u001b[0m         \u001b[0mmsg\u001b[0m \u001b[0;34m+=\u001b[0m \u001b[0mstr\u001b[0m\u001b[0;34m(\u001b[0m\u001b[0m_resolution_error\u001b[0m\u001b[0;34m)\u001b[0m\u001b[0;34m\u001b[0m\u001b[0;34m\u001b[0m\u001b[0m\n\u001b[0;32m--> 138\u001b[0;31m         \u001b[0;32mraise\u001b[0m \u001b[0mRuntimeError\u001b[0m\u001b[0;34m(\u001b[0m\u001b[0mmsg\u001b[0m\u001b[0;34m)\u001b[0m\u001b[0;34m\u001b[0m\u001b[0;34m\u001b[0m\u001b[0m\n\u001b[0m\u001b[1;32m    139\u001b[0m     if (not cudnn_enabled and\n\u001b[1;32m    140\u001b[0m             \u001b[0;32mnot\u001b[0m \u001b[0m_cudnn_disabled_by_user\u001b[0m \u001b[0;32mand\u001b[0m\u001b[0;34m\u001b[0m\u001b[0;34m\u001b[0m\u001b[0m\n",
      "\u001b[0;31mRuntimeError\u001b[0m: CUDA environment is not correctly set up\n(see https://github.com/chainer/chainer#installation).No module named 'cupy'"
     ]
    }
   ],
   "source": [
    "# GPGPUの利用\n",
    "from chainer import cuda\n",
    "gpu_device = 0\n",
    "cuda.get_device(gpu_device).use()\n",
    "# cuda.get_device(gpu_device).use()\n",
    "# NN.to_gpu()"
   ]
  },
  {
   "cell_type": "code",
   "execution_count": null,
   "metadata": {},
   "outputs": [],
   "source": []
  },
  {
   "cell_type": "code",
   "execution_count": null,
   "metadata": {},
   "outputs": [],
   "source": []
  }
 ],
 "metadata": {
  "kernelspec": {
   "display_name": "Python 3",
   "language": "python",
   "name": "python3"
  },
  "language_info": {
   "codemirror_mode": {
    "name": "ipython",
    "version": 3
   },
   "file_extension": ".py",
   "mimetype": "text/x-python",
   "name": "python",
   "nbconvert_exporter": "python",
   "pygments_lexer": "ipython3",
   "version": "3.7.3"
  }
 },
 "nbformat": 4,
 "nbformat_minor": 2
}
