{
 "cells": [
  {
   "cell_type": "code",
   "execution_count": 16,
   "metadata": {},
   "outputs": [],
   "source": [
    "# chainer の宣言\n",
    "import chainer.optimizers as Opt\n",
    "import chainer.functions as F\n",
    "import chainer.links as L\n",
    "# chainerから Variable, Chainのクラスと configのオブジェクトをimport\n",
    "from chainer import Variable,Chain,config"
   ]
  },
  {
   "cell_type": "code",
   "execution_count": 2,
   "metadata": {},
   "outputs": [],
   "source": [
    "# 基本モジュールの宣言\n",
    "import numpy as np\n",
    "import matplotlib.pyplot as plt\n",
    "# 乱数生成\n",
    "D = 100\n",
    "N = 2\n",
    "xdata = np.random.randn(D*N).reshape(D,N).astype(np.float32)\n",
    "# 関数の定義\n",
    "def f(x):\n",
    "    y = x*x\n",
    "    return y\n",
    "# 条件式を満たすものを見つけ出す\n",
    "tdata = (xdata[:,1] > f(xdata[:,0])).astype(np.int32)"
   ]
  },
  {
   "cell_type": "code",
   "execution_count": 3,
   "metadata": {},
   "outputs": [],
   "source": [
    "# 1層のニューラルネットワークを呼び出す\n",
    "C = 2\n",
    "NN = Chain(l1 = L.Linear(N,C))\n",
    "# C = 2は二種類の出力結果があることを明言している.\n",
    "# tdataの中身が0,1の二種類の値であることに対応している.\n",
    "# l1 = L.Linear(N,C)では, N入力, C出力の線形変換(Linear Transformation)を表している.\n",
    "# 一つのデータに対して, 入力と出力の個数がそれぞれN個とC個あり, N個の数値にそれぞれ重みをかけて足し合わせてC個の数値へと変換する（線形変換）.\n",
    "# 「数値の組み合わせ」 = ニューラルネットワークで行われること.\n",
    "# NNはニューラルネットワーク（Neural Network）の略称を示している."
   ]
  },
  {
   "cell_type": "code",
   "execution_count": 4,
   "metadata": {},
   "outputs": [],
   "source": [
    "# 関数の定義\n",
    "def model(x):\n",
    "    y = NN.l1(x)\n",
    "    return y"
   ]
  },
  {
   "cell_type": "code",
   "execution_count": 5,
   "metadata": {},
   "outputs": [
    {
     "name": "stdout",
     "output_type": "stream",
     "text": [
      "variable([[ 3.6923308e-02  2.4774368e+00]\n",
      "          [ 4.8020616e-01 -2.2080266e+00]\n",
      "          [ 3.0576146e-01 -1.0717193e+00]\n",
      "          [ 6.9746065e-01 -1.2891831e+00]\n",
      "          [-4.3374562e-01  9.5645815e-01]\n",
      "          [-1.9676024e+00 -4.7321701e-01]\n",
      "          [-1.6902453e+00 -4.2971689e-01]\n",
      "          [ 1.2371627e+00 -5.0770909e-01]\n",
      "          [-7.3873544e-01  7.1876568e-01]\n",
      "          [ 1.3081619e-01 -1.4237343e+00]\n",
      "          [ 1.2260857e+00 -3.9754629e-01]\n",
      "          [ 1.1529603e+00 -5.8690852e-01]\n",
      "          [-1.7762195e+00  3.1208304e-01]\n",
      "          [-1.4104851e+00  4.1725478e-01]\n",
      "          [ 1.3255123e+00  1.0398190e+00]\n",
      "          [ 6.9469698e-02  1.7196984e+00]\n",
      "          [-1.1966449e+00  3.9837959e-01]\n",
      "          [ 2.1793085e-01  6.0978848e-01]\n",
      "          [-2.7294913e-01 -2.7762905e-01]\n",
      "          [ 2.2488689e+00 -5.3310549e-01]\n",
      "          [-2.2862397e-01 -1.0203416e+00]\n",
      "          [ 1.5850670e+00  4.5856079e-01]\n",
      "          [-2.0557566e-01  1.1798997e+00]\n",
      "          [-5.9972662e-01 -7.4848451e-02]\n",
      "          [ 8.6652976e-01 -1.2755120e+00]\n",
      "          [ 6.8780935e-01 -1.0020964e+00]\n",
      "          [-1.0258484e+00 -5.3576386e-01]\n",
      "          [-2.4225072e-03  1.7838170e-01]\n",
      "          [-1.0027627e+00  3.2021263e-01]\n",
      "          [ 2.2429225e+00 -9.1115528e-01]\n",
      "          [-1.7726741e-03 -1.0193939e+00]\n",
      "          [ 1.2132396e+00 -2.4972386e+00]\n",
      "          [ 1.7988032e+00  7.8956449e-01]\n",
      "          [ 1.1989840e-01  4.9805138e-01]\n",
      "          [-9.7380048e-01  9.8012018e-01]\n",
      "          [-2.8763741e-01 -1.3680272e+00]\n",
      "          [ 7.4644572e-01  1.1833377e+00]\n",
      "          [ 3.6271244e-01 -5.0227100e-01]\n",
      "          [-9.9408907e-01  1.0127468e-01]\n",
      "          [-1.1332402e+00  1.3421662e+00]\n",
      "          [-6.4824110e-01 -1.8941131e-01]\n",
      "          [-1.5922112e+00  1.4815792e+00]\n",
      "          [-1.8674045e+00  2.2406175e+00]\n",
      "          [-7.1010101e-01  3.3314514e-01]\n",
      "          [ 1.0877368e+00 -1.4246867e+00]\n",
      "          [-1.4549986e+00 -2.1099176e+00]\n",
      "          [ 1.2722091e-01 -7.7199805e-01]\n",
      "          [-4.8173735e-01  4.9968293e-01]\n",
      "          [-1.7574161e+00  1.7190299e+00]\n",
      "          [-9.0206081e-01  1.9367975e-01]\n",
      "          [-2.4594910e+00  1.6479845e+00]\n",
      "          [ 1.8570819e+00 -8.6131090e-01]\n",
      "          [-1.0362573e+00 -9.8119326e-02]\n",
      "          [-1.0454729e+00  5.9988797e-01]\n",
      "          [ 9.1789109e-01 -9.5331889e-01]\n",
      "          [ 2.0154247e+00 -1.2565155e+00]\n",
      "          [ 8.7835127e-01 -8.6844218e-01]\n",
      "          [ 6.6664472e-02  2.8532648e-01]\n",
      "          [ 1.9021018e+00 -2.4670488e-01]\n",
      "          [ 6.9974238e-01 -1.1263122e-01]\n",
      "          [-1.3567470e-01  1.3378395e+00]\n",
      "          [ 8.6530939e-02 -1.8513655e-02]\n",
      "          [-3.5335076e-01 -4.9444744e-01]\n",
      "          [ 1.0564338e-01 -1.6592808e+00]\n",
      "          [ 6.6949129e-01 -1.9422567e+00]\n",
      "          [ 2.2286987e+00 -9.5381045e-01]\n",
      "          [ 2.7698353e-01 -9.1843379e-01]\n",
      "          [-3.1823146e-01 -2.0174043e+00]\n",
      "          [ 2.9009260e-02 -9.2436916e-01]\n",
      "          [ 1.2562307e+00 -2.1494091e-01]\n",
      "          [-2.2908137e+00  5.2787423e-01]\n",
      "          [ 9.8332179e-01 -4.3586951e-01]\n",
      "          [-1.4688971e+00  9.6296883e-01]\n",
      "          [ 2.9538689e+00 -1.2576764e+00]\n",
      "          [ 1.5471462e+00 -3.0219448e-01]\n",
      "          [ 3.5992244e-01 -7.3660147e-01]\n",
      "          [ 4.8033574e-01  5.9825248e-01]\n",
      "          [ 9.8132497e-01  2.3320529e-01]\n",
      "          [ 3.6867723e-01 -1.2786700e+00]\n",
      "          [-4.0161856e-02  9.4533497e-01]\n",
      "          [ 1.0117046e-01  1.1751699e+00]\n",
      "          [-3.1827841e-02 -8.1377983e-02]\n",
      "          [ 2.5031501e-01  6.3485342e-01]\n",
      "          [ 4.6257663e-01 -8.6074394e-01]\n",
      "          [-4.6331990e-01  4.0101930e-02]\n",
      "          [-9.1934693e-01 -2.4242577e-01]\n",
      "          [-9.0509570e-01 -1.1647603e-01]\n",
      "          [-1.5579071e+00  1.8292485e+00]\n",
      "          [ 7.5106198e-01 -4.1506717e-01]\n",
      "          [ 7.7619183e-01  1.0429438e+00]\n",
      "          [ 6.3749135e-01 -6.0855836e-01]\n",
      "          [-7.3111975e-01 -2.3359305e-01]\n",
      "          [ 9.8515600e-01 -5.2361590e-01]\n",
      "          [-1.3561995e+00  7.1564442e-01]\n",
      "          [ 4.0829223e-01 -1.1598834e+00]\n",
      "          [-3.5523552e-01  7.0840281e-01]\n",
      "          [-3.8812056e-01 -2.0286336e+00]\n",
      "          [ 6.5628773e-01  3.2541865e-01]\n",
      "          [ 2.4268068e-01  7.7517807e-01]\n",
      "          [-7.8795320e-01 -1.6132532e-01]])\n"
     ]
    }
   ],
   "source": [
    "# 関数の利用と出力結果の表示\n",
    "ydata = model(xdata)\n",
    "print(ydata)"
   ]
  },
  {
   "cell_type": "code",
   "execution_count": 6,
   "metadata": {},
   "outputs": [
    {
     "name": "stdout",
     "output_type": "stream",
     "text": [
      "variable(0.22)\n"
     ]
    }
   ],
   "source": [
    "# 精度の検証\n",
    "acc = F.accuracy(ydata,tdata)\n",
    "print(acc)"
   ]
  },
  {
   "cell_type": "code",
   "execution_count": 7,
   "metadata": {},
   "outputs": [
    {
     "data": {
      "text/plain": [
       "<chainer.optimizers.sgd.SGD at 0x113fd35c0>"
      ]
     },
     "execution_count": 7,
     "metadata": {},
     "output_type": "execute_result"
    }
   ],
   "source": [
    "# 最適化手法の設定, optimizerの使用方法\n",
    "# 初歩的な方法の最適化\n",
    "optNN = Opt.SGD()\n",
    "# 最適化するニューラルネットワークの指定\n",
    "optNN.setup(NN)"
   ]
  },
  {
   "cell_type": "code",
   "execution_count": 8,
   "metadata": {},
   "outputs": [],
   "source": [
    "# 学習の記録を残す場所の用意\n",
    "# 誤差関数の記録\n",
    "loss_series = []\n",
    "# 成績の記録\n",
    "acc_series = []"
   ]
  },
  {
   "cell_type": "code",
   "execution_count": 9,
   "metadata": {},
   "outputs": [],
   "source": [
    "# 結界を張る\n",
    "# optimizerの回数を指定, 学習の回数を指定\n",
    "T = 5000\n",
    "for time in range(T):\n",
    "    # ニューラルネットワークのモードを切り替える.\n",
    "    # Trueにすることで学習モードにする.\n",
    "    config.train = True\n",
    "    # 初期化, 全ての勾配をゼロにしている. optNN.targetは, 「optNN.setupで指定されたNN」を示している.\n",
    "    optNN.target.zerograds()\n",
    "    # 現状のニューラルネットワークを用いてデータを試しに２つに分類している.\n",
    "    ydata = model(xdata)\n",
    "    # 現状の結果(ydata)と正解の値(tdata)がどれだけ近いのかを示す誤差関数の計算を行った. その結果をlossに記録している.\n",
    "    loss = F.softmax_cross_entropy(ydata,tdata)\n",
    "    # 現状の成績のチェックをして, accに記録している.\n",
    "    acc = F.accuracy(ydata,tdata)\n",
    "    # 誤差関数の計算過程を振り返って誤差伝搬法を実行している.\n",
    "    loss.backward()\n",
    "    # 最後にNNを調整する.\n",
    "    optNN.update()\n",
    "    # lossとaccをloss_seriesとacc_seriesに加えてリストとして記録する.\n",
    "    # .dataをつけることで, 数値の読み込みだけを行っている.\n",
    "    loss_series.append(loss.data)\n",
    "    acc_series.append(acc.data)"
   ]
  },
  {
   "cell_type": "code",
   "execution_count": 10,
   "metadata": {},
   "outputs": [
    {
     "data": {
      "image/png": "[encoded data removed]",
      "text/plain": [
       "<Figure size 576x432 with 1 Axes>"
      ]
     },
     "metadata": {
      "needs_background": "light"
     },
     "output_type": "display_data"
    }
   ],
   "source": [
    "# 学習の記録の表示\n",
    "Tall = len(loss_series)\n",
    "plt.figure(figsize=(8,6))\n",
    "plt.plot(range(Tall), loss_series)\n",
    "plt.title(\"loss function in training\")\n",
    "plt.xlabel(\"step\")\n",
    "plt.ylabel(\"loss function\")\n",
    "plt.xlim([0, Tall])\n",
    "plt.ylim([0, 1])\n",
    "plt.show()"
   ]
  },
  {
   "cell_type": "code",
   "execution_count": 11,
   "metadata": {},
   "outputs": [
    {
     "data": {
      "image/png": "[encoded data removed]",
      "text/plain": [
       "<Figure size 576x432 with 1 Axes>"
      ]
     },
     "metadata": {
      "needs_background": "light"
     },
     "output_type": "display_data"
    }
   ],
   "source": [
    "# 学習の記録の表示\n",
    "Tall = len(acc_series)\n",
    "plt.figure(figsize=(8,6))\n",
    "plt.plot(range(Tall), acc_series)\n",
    "plt.title(\"accuracy in training\")\n",
    "plt.xlabel(\"step\")\n",
    "plt.ylabel(\"accuracy\")\n",
    "plt.xlim([0, Tall])\n",
    "plt.ylim([0, 1])\n",
    "plt.show()"
   ]
  },
  {
   "cell_type": "code",
   "execution_count": 12,
   "metadata": {},
   "outputs": [],
   "source": [
    "# 2層のニューラルネットワークを呼び出す.\n",
    "C = 2\n",
    "NN = Chain(l1=L.Linear(N,4), l2=L.Linear(4,C))"
   ]
  },
  {
   "cell_type": "code",
   "execution_count": 13,
   "metadata": {},
   "outputs": [],
   "source": [
    "# ２層のニューラルネットワークの関数化\n",
    "# この場合は非線型変換が必須になる.\n",
    "#　非線型変換は線形変換の後の実行する.\n",
    "def model(x):\n",
    "    h = NN.l1(x)\n",
    "    # 先見変換を施した後に非線型変換を施す.\n",
    "    h = F.sigmoid(h)\n",
    "    y = NN.l2(h)\n",
    "    return h\n",
    "# データをいくつかの種類に分けることを「識別」と呼ぶ."
   ]
  },
  {
   "cell_type": "code",
   "execution_count": 14,
   "metadata": {},
   "outputs": [],
   "source": [
    "# 再びSGDでの方法で学習をさせる\n",
    "optNN = Opt.SGD()\n",
    "optNN.setup(NN)\n",
    "\n",
    "# 学習の記録を用意\n",
    "loss_series = []\n",
    "acc_series = []\n",
    "\n",
    "# 学習の回数の指定\n",
    "T = 20000\n",
    "for time in range(T):\n",
    "    config.train = True\n",
    "    optNN.target.zerograds()\n",
    "    ydata = model(xdata)\n",
    "    loss = F.softmax_cross_entropy(ydata, tdata)\n",
    "    acc = F.accuracy(ydata, tdata)\n",
    "    loss.backward()\n",
    "    optNN.update()\n",
    "    \n",
    "    loss_series.append(loss.data)\n",
    "    acc_series.append(acc.data)"
   ]
  },
  {
   "cell_type": "code",
   "execution_count": 17,
   "metadata": {},
   "outputs": [
    {
     "data": {
      "image/png": "[encoded data removed]",
      "text/plain": [
       "<Figure size 576x432 with 1 Axes>"
      ]
     },
     "metadata": {
      "needs_background": "light"
     },
     "output_type": "display_data"
    },
    {
     "data": {
      "image/png": "[encoded data removed]",
      "text/plain": [
       "<Figure size 576x432 with 1 Axes>"
      ]
     },
     "metadata": {
      "needs_background": "light"
     },
     "output_type": "display_data"
    }
   ],
   "source": [
    "# 誤差関数の表示\n",
    "Tall = len(loss_series)\n",
    "plt.figure(figsize=(8,6))\n",
    "plt.plot(range(Tall), loss_series)\n",
    "plt.title(\"loss function in training\")\n",
    "plt.xlabel(\"step\")\n",
    "plt.ylabel(\"loss function\")\n",
    "plt.xlim([0, Tall])\n",
    "plt.ylim([0, 4])\n",
    "plt.show()\n",
    "\n",
    "# 精度の表示\n",
    "plt.figure(figsize=(8,6))\n",
    "plt.plot(range(Tall), acc_series)\n",
    "plt.title(\"accuracy in training\")\n",
    "plt.xlabel(\"step\")\n",
    "plt.ylabel(\"accuracy\")\n",
    "plt.xlim([0, Tall])\n",
    "plt.ylim([0, 1])\n",
    "plt.show()"
   ]
  }
 ],
 "metadata": {
  "kernelspec": {
   "display_name": "Python 3",
   "language": "python",
   "name": "python3"
  },
  "language_info": {
   "codemirror_mode": {
    "name": "ipython",
    "version": 3
   },
   "file_extension": ".py",
   "mimetype": "text/x-python",
   "name": "python",
   "nbconvert_exporter": "python",
   "pygments_lexer": "ipython3",
   "version": "3.7.3"
  }
 },
 "nbformat": 4,
 "nbformat_minor": 2
}
