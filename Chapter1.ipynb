{
 "cells": [
  {
   "cell_type": "code",
   "execution_count": 59,
   "metadata": {},
   "outputs": [],
   "source": [
    "import numpy as np\n",
    "import matplotlib.pyplot as plt"
   ]
  },
  {
   "cell_type": "code",
   "execution_count": 60,
   "metadata": {},
   "outputs": [],
   "source": [
    "D = 100\n",
    "N = 2\n",
    "# randn(D*N), rndomな数字をD*N=200個用意し, reshape.(D,N)でD行N列の行列に並べる. 各行列の要素はfloat32型の精度である.\n",
    "xdata = np.random.randn(D*N).reshape(D,N).astype(np.float32)"
   ]
  },
  {
   "cell_type": "code",
   "execution_count": 61,
   "metadata": {
    "scrolled": true
   },
   "outputs": [
    {
     "name": "stdout",
     "output_type": "stream",
     "text": [
      "[[-0.45698702  0.14133288]\n",
      " [-0.17547452 -2.1619182 ]\n",
      " [-1.3093834  -1.8809738 ]\n",
      " [ 0.354827   -1.1076941 ]\n",
      " [ 0.8164034   0.12187809]\n",
      " [ 1.0242646  -0.4319359 ]\n",
      " [ 0.8632539  -0.1405158 ]\n",
      " [-1.1918325   1.1260365 ]\n",
      " [-1.3608329   0.05951218]\n",
      " [-0.40208405 -0.9536411 ]\n",
      " [ 0.6598117   1.2481705 ]\n",
      " [ 0.5803285  -0.5468681 ]\n",
      " [-0.80252874 -0.38039508]\n",
      " [-0.9588335  -1.2809386 ]\n",
      " [ 0.4258991   1.6830978 ]\n",
      " [-1.2476585   1.3466195 ]\n",
      " [ 0.5064718  -0.44194993]\n",
      " [ 0.5726109   0.87392664]\n",
      " [ 0.7297183   0.08043014]\n",
      " [ 0.21453874  0.5454801 ]\n",
      " [ 0.14243655 -1.9980264 ]\n",
      " [-0.2633005   0.555276  ]\n",
      " [-1.6695948  -1.1171035 ]\n",
      " [-0.42582887 -0.37011588]\n",
      " [-0.7006322   0.37653944]\n",
      " [-1.1452602  -1.2198858 ]\n",
      " [-0.33153448 -0.02332566]\n",
      " [-1.3165874  -1.1101303 ]\n",
      " [ 0.01627542 -0.6584326 ]\n",
      " [ 1.7920351   1.6477386 ]\n",
      " [ 1.203655   -0.12045333]\n",
      " [-0.38631606  0.8313028 ]\n",
      " [-0.61438674 -0.9963077 ]\n",
      " [-0.30534574 -0.13510765]\n",
      " [ 0.44145942 -2.0650392 ]\n",
      " [ 0.7053278  -0.278831  ]\n",
      " [ 0.48740926 -0.6498872 ]\n",
      " [ 1.1473234  -1.0740525 ]\n",
      " [-0.80847734 -0.20719756]\n",
      " [-0.25271225 -0.39954728]\n",
      " [-0.46697003  0.28774342]\n",
      " [ 1.6606762  -0.87882656]\n",
      " [ 0.5859336  -0.11347296]\n",
      " [ 0.4505413  -0.75565296]\n",
      " [-0.07818265 -1.3032198 ]\n",
      " [ 0.46032193  0.6723487 ]\n",
      " [-1.9407581   1.1005176 ]\n",
      " [-1.1130804  -1.151731  ]\n",
      " [ 0.6852832  -0.58469284]\n",
      " [-0.65078044  0.82226306]\n",
      " [-0.2858658  -0.20800915]\n",
      " [ 0.00995311 -0.61322093]\n",
      " [-0.00760678  1.0815505 ]\n",
      " [ 1.0427079  -0.24616258]\n",
      " [-1.6236695  -0.1395259 ]\n",
      " [-0.67382103 -0.60458094]\n",
      " [ 1.33682    -0.82651186]\n",
      " [ 0.09754702  0.64751285]\n",
      " [ 0.80903727  1.9424536 ]\n",
      " [-0.29087135 -0.9101339 ]\n",
      " [ 0.01161362  0.6026624 ]\n",
      " [-0.5342309  -1.1950698 ]\n",
      " [-0.8630889   0.46927494]\n",
      " [ 1.0504241   0.06870947]\n",
      " [-1.9633627  -2.1761954 ]\n",
      " [ 0.10931636 -1.3725207 ]\n",
      " [ 0.31785962 -0.8356965 ]\n",
      " [ 0.04993133 -0.3597514 ]\n",
      " [ 0.9583046  -0.02892264]\n",
      " [-1.4322474  -0.8597658 ]\n",
      " [-0.34169596  0.5755942 ]\n",
      " [-0.16054079  0.50013506]\n",
      " [-0.6498774  -0.81575936]\n",
      " [-0.11959147  0.7890311 ]\n",
      " [-0.2799352   0.8598651 ]\n",
      " [-2.0962806  -0.08372627]\n",
      " [-0.3102077   0.8064942 ]\n",
      " [ 1.0534695  -0.11173486]\n",
      " [-0.6891143  -1.6796107 ]\n",
      " [-1.2673945   0.28072667]\n",
      " [-1.3132055   1.9497374 ]\n",
      " [-1.2630028  -0.06795739]\n",
      " [ 1.9350675  -1.2435125 ]\n",
      " [ 2.0342207  -0.20865457]\n",
      " [ 0.60110414  1.2340791 ]\n",
      " [-0.33811226 -0.62099373]\n",
      " [ 0.6287618   0.29261357]\n",
      " [-0.60154045  0.2301765 ]\n",
      " [ 1.6420485  -0.09897288]\n",
      " [ 0.3174945  -0.33257353]\n",
      " [ 0.67986906  0.8993776 ]\n",
      " [-1.1566362   0.6516995 ]\n",
      " [ 0.90718377  2.0160205 ]\n",
      " [ 0.88037246  0.835195  ]\n",
      " [ 0.19750868  0.3333297 ]\n",
      " [-0.3275799  -0.69353163]\n",
      " [ 0.12391926 -1.2111034 ]\n",
      " [ 0.9336543   0.23826648]\n",
      " [ 0.9839148   0.04311915]\n",
      " [ 1.1133348   0.90789443]]\n"
     ]
    }
   ],
   "source": [
    "print(xdata)"
   ]
  },
  {
   "cell_type": "code",
   "execution_count": 62,
   "metadata": {},
   "outputs": [
    {
     "data": {
      "image/png": "[encoded data removed]",
      "text/plain": [
       "<Figure size 432x288 with 1 Axes>"
      ]
     },
     "metadata": {
      "needs_background": "light"
     },
     "output_type": "display_data"
    }
   ],
   "source": [
    "#x軸がxdataの0列目の要素全て, y軸が1列目の要素全ての散布図を描く\n",
    "plt.scatter(xdata[:,0], xdata[:,1])\n",
    "plt.show()"
   ]
  },
  {
   "cell_type": "code",
   "execution_count": 63,
   "metadata": {},
   "outputs": [],
   "source": [
    "#２次の関数f(x)=x^2の定義\n",
    "def f(x):\n",
    "    y = x*x\n",
    "    return y"
   ]
  },
  {
   "cell_type": "code",
   "execution_count": 64,
   "metadata": {},
   "outputs": [
    {
     "name": "stdout",
     "output_type": "stream",
     "text": [
      "[0 0 0 0 0 0 0 0 0 0 1 0 0 0 1 0 0 1 0 1 0 1 0 0 0 0 0 0 0 0 0 1 0 0 0 0 0\n",
      " 0 0 0 1 0 0 0 0 1 0 0 0 1 0 0 1 0 0 0 0 1 1 0 1 0 0 0 0 0 0 0 0 0 1 1 0 1\n",
      " 1 0 1 0 0 0 1 0 0 0 1 0 0 0 0 0 1 0 1 1 1 0 0 0 0 0]\n"
     ]
    }
   ],
   "source": [
    "# 0列目,x軸, の二乗,f(x), よりも１列目, y軸, の要素が大きい場合True(1)として, 小さい場合は(0)とint32型としてtdataに入る.\n",
    "# 要するに, ()内の条件式のTrue/Falseをint32型の1/0としてtdataに詰めている.\n",
    "#最後のastype(np.int32)で0,1の整数値に変換している.\n",
    "tdata = (xdata[:,1] > f(xdata[:,0])).astype(np.int32)\n",
    "print(tdata)"
   ]
  },
  {
   "cell_type": "code",
   "execution_count": 65,
   "metadata": {},
   "outputs": [
    {
     "data": {
      "text/plain": [
       "array([0, 0, 0, 0, 0, 0, 0, 0, 0, 0, 1, 0, 0, 0, 1, 0, 0, 1, 0, 1, 0, 1,\n",
       "       0, 0, 0, 0, 0, 0, 0, 0, 0, 1, 0, 0, 0, 0, 0, 0, 0, 0, 1, 0, 0, 0,\n",
       "       0, 1, 0, 0, 0, 1, 0, 0, 1, 0, 0, 0, 0, 1, 1, 0, 1, 0, 0, 0, 0, 0,\n",
       "       0, 0, 0, 0, 1, 1, 0, 1, 1, 0, 1, 0, 0, 0, 1, 0, 0, 0, 1, 0, 0, 0,\n",
       "       0, 0, 1, 0, 1, 1, 1, 0, 0, 0, 0, 0], dtype=int32)"
      ]
     },
     "execution_count": 65,
     "metadata": {},
     "output_type": "execute_result"
    }
   ],
   "source": [
    "#\"print(tdata)\"でなく, \"tdata\"だけを打っても出力はされる.\n",
    "# この場合, arrayと表示され, 変数の型であるint32が示されるそう.\n",
    "tdata"
   ]
  },
  {
   "cell_type": "code",
   "execution_count": 66,
   "metadata": {},
   "outputs": [
    {
     "name": "stdout",
     "output_type": "stream",
     "text": [
      "(100,)\n"
     ]
    }
   ],
   "source": [
    "# tdataの形を表示 (100)の要素をもつ配列\n",
    "print(tdata.shape)"
   ]
  },
  {
   "cell_type": "code",
   "execution_count": 67,
   "metadata": {},
   "outputs": [
    {
     "name": "stdout",
     "output_type": "stream",
     "text": [
      "(100, 2)\n"
     ]
    }
   ],
   "source": [
    "# xdataの形を表示, (100,2)の行列であることがわかる.\n",
    "print(xdata.shape)"
   ]
  },
  {
   "cell_type": "code",
   "execution_count": 68,
   "metadata": {},
   "outputs": [],
   "source": [
    "#True(tdata==1)とFalse(tdata==0)の場所を調べる.\n",
    "#.whereで何番目の数字が条件を満たすかを出力する.\n",
    "ndata0 = np.where(tdata==0)\n",
    "ndata1 = np.where(tdata==1)"
   ]
  },
  {
   "cell_type": "code",
   "execution_count": 69,
   "metadata": {
    "scrolled": true
   },
   "outputs": [
    {
     "name": "stdout",
     "output_type": "stream",
     "text": [
      "(array([ 0,  1,  2,  3,  4,  5,  6,  7,  8,  9, 11, 12, 13, 15, 16, 18, 20,\n",
      "       22, 23, 24, 25, 26, 27, 28, 29, 30, 32, 33, 34, 35, 36, 37, 38, 39,\n",
      "       41, 42, 43, 44, 46, 47, 48, 50, 51, 53, 54, 55, 56, 59, 61, 62, 63,\n",
      "       64, 65, 66, 67, 68, 69, 72, 75, 77, 78, 79, 81, 82, 83, 85, 86, 87,\n",
      "       88, 89, 91, 95, 96, 97, 98, 99]),)\n"
     ]
    }
   ],
   "source": [
    "print(ndata0)"
   ]
  },
  {
   "cell_type": "code",
   "execution_count": 70,
   "metadata": {},
   "outputs": [
    {
     "name": "stdout",
     "output_type": "stream",
     "text": [
      "(array([10, 14, 17, 19, 21, 31, 40, 45, 49, 52, 57, 58, 60, 70, 71, 73, 74,\n",
      "       76, 80, 84, 90, 92, 93, 94]),)\n"
     ]
    }
   ],
   "source": [
    "print(ndata1)"
   ]
  },
  {
   "cell_type": "code",
   "execution_count": 71,
   "metadata": {},
   "outputs": [
    {
     "data": {
      "image/png": "[encoded data removed]",
      "text/plain": [
       "<Figure size 432x288 with 1 Axes>"
      ]
     },
     "metadata": {
      "needs_background": "light"
     },
     "output_type": "display_data"
    }
   ],
   "source": [
    "# 2つの種類のデータを図に示す.\n",
    "# -2.0から2.0の範囲でD=100個の点を用意する.\n",
    "x = np.linspace(-2.0, 2.0, D)\n",
    "#y=f(x)=x*xを描画する.\n",
    "plt.plot(x,f(x))\n",
    "#xdata[ndata0, 0]では, ndata0に含まれる番号の点だけが選ばれて描き出される.\n",
    "plt.scatter(xdata[ndata0,0], xdata[ndata0,1], marker=\"x\")\n",
    "plt.scatter(xdata[ndata1,0], xdata[ndata1,1], marker=\"o\")\n",
    "#plot.show()と描くまでは重ね書きができる.\n",
    "plt.show()"
   ]
  }
 ],
 "metadata": {
  "kernelspec": {
   "display_name": "Python 3",
   "language": "python",
   "name": "python3"
  },
  "language_info": {
   "codemirror_mode": {
    "name": "ipython",
    "version": 3
   },
   "file_extension": ".py",
   "mimetype": "text/x-python",
   "name": "python",
   "nbconvert_exporter": "python",
   "pygments_lexer": "ipython3",
   "version": "3.7.3"
  }
 },
 "nbformat": 4,
 "nbformat_minor": 2
}
